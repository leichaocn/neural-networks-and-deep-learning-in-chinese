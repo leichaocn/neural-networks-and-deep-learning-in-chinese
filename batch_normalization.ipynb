{
 "cells": [
  {
   "cell_type": "code",
   "execution_count": 6,
   "metadata": {
    "ExecuteTime": {
     "end_time": "2019-09-12T06:55:28.236309Z",
     "start_time": "2019-09-12T06:55:25.665309Z"
    },
    "scrolled": true
   },
   "outputs": [
    {
     "name": "stdout",
     "output_type": "stream",
     "text": [
      "1.5.0\n",
      "Extracting MNIST_data\\train-images-idx3-ubyte.gz\n",
      "Extracting MNIST_data\\train-labels-idx1-ubyte.gz\n",
      "Extracting MNIST_data\\t10k-images-idx3-ubyte.gz\n",
      "Extracting MNIST_data\\t10k-labels-idx1-ubyte.gz\n"
     ]
    }
   ],
   "source": [
    "import numpy as np, tensorflow as tf, tqdm\n",
    "from tensorflow.examples.tutorials.mnist import input_data\n",
    "import matplotlib.pyplot as plt\n",
    "print(tf.__version__)\n",
    "%matplotlib inline\n",
    "mnist = input_data.read_data_sets('MNIST_data', one_hot=True)"
   ]
  },
  {
   "cell_type": "code",
   "execution_count": 7,
   "metadata": {
    "ExecuteTime": {
     "end_time": "2019-09-12T06:55:28.306309Z",
     "start_time": "2019-09-12T06:55:28.255309Z"
    }
   },
   "outputs": [],
   "source": [
    "w1_initial = np.random.normal(size=(784,100)).astype(np.float32)\n",
    "w2_initial = np.random.normal(size=(100,100)).astype(np.float32)\n",
    "w3_initial = np.random.normal(size=(100,10)).astype(np.float32)\n",
    "\n",
    "# 为BN层准备一个非常小的数字，防止出现分母为0的极端情况。\n",
    "epsilon = 1e-3"
   ]
  },
  {
   "cell_type": "markdown",
   "metadata": {},
   "source": [
    "## 从头开始实现Batch Normalization，验证其对网络训练的效果\n",
    "构建两个计算图，均为3层网络（不算输入层的话）。其中：\n",
    "一个是无BN的普通三层网络\n",
    "一个是diy创建BN的隐藏层Layer 1，基于tensorflow创建BN的隐藏层Layer 2，输出层Layer 3\n",
    "\n",
    "Layer 1 层：无BN"
   ]
  },
  {
   "cell_type": "code",
   "execution_count": 41,
   "metadata": {
    "ExecuteTime": {
     "end_time": "2019-09-12T08:09:05.607209Z",
     "start_time": "2019-09-12T08:09:05.515209Z"
    }
   },
   "outputs": [],
   "source": [
    "# Placeholders\n",
    "x = tf.placeholder(tf.float32, shape=[None, 784])\n",
    "y_ = tf.placeholder(tf.float32, shape=[None, 10])\n",
    "# Layer 1 without BN\n",
    "w1 = tf.Variable(w1_initial)\n",
    "b1 = tf.Variable(tf.zeros([100]))\n",
    "z1 = tf.matmul(x,w1)+b1\n",
    "l1 = tf.nn.sigmoid(z1)"
   ]
  },
  {
   "cell_type": "markdown",
   "metadata": {
    "ExecuteTime": {
     "end_time": "2019-09-12T06:55:28.782309Z",
     "start_time": "2019-09-12T06:55:28.575309Z"
    }
   },
   "source": [
    "Layer 1 层：自定义BN"
   ]
  },
  {
   "cell_type": "code",
   "execution_count": 42,
   "metadata": {
    "ExecuteTime": {
     "end_time": "2019-09-12T08:09:05.848209Z",
     "start_time": "2019-09-12T08:09:05.645209Z"
    }
   },
   "outputs": [],
   "source": [
    "w1_BN = tf.Variable(w1_initial)\n",
    "\n",
    "# 因为BN的引入，b的作用被BN层替代，可省略。\n",
    "z1_BN = tf.matmul(x,w1_BN)\n",
    "\n",
    "# 计算加权和的均值和方差，0是指batch这个维度\n",
    "batch_mean1, batch_var1 = tf.nn.moments(z1_BN,[0])\n",
    "\n",
    "# 正则化\n",
    "z1_hat = (z1_BN - batch_mean1) / tf.sqrt(batch_var1 + epsilon)\n",
    "\n",
    "# 新建两个变量scale and beta\n",
    "scale1 = tf.Variable(tf.ones([100]))\n",
    "beta1 = tf.Variable(tf.zeros([100]))\n",
    "\n",
    "# 计算被还原的BN1，即BN文章里的y\n",
    "BN1 = scale1 * z1_hat + beta1\n",
    "\n",
    "# l1_BN = tf.nn.sigmoid(BN1)\n",
    "l1_BN = tf.nn.relu(BN1)"
   ]
  },
  {
   "cell_type": "markdown",
   "metadata": {},
   "source": [
    "Layer 2 层：无BN"
   ]
  },
  {
   "cell_type": "code",
   "execution_count": 43,
   "metadata": {
    "ExecuteTime": {
     "end_time": "2019-09-12T08:09:05.923209Z",
     "start_time": "2019-09-12T08:09:05.856209Z"
    }
   },
   "outputs": [],
   "source": [
    "w2 = tf.Variable(w2_initial)\n",
    "b2 = tf.Variable(tf.zeros([100]))\n",
    "z2 = tf.matmul(l1,w2)+b2\n",
    "# l2 = tf.nn.sigmoid(z2)\n",
    "l2 = tf.nn.relu(z2)"
   ]
  },
  {
   "cell_type": "markdown",
   "metadata": {},
   "source": [
    "Layer 2 层：使用tensorflow创建BN"
   ]
  },
  {
   "cell_type": "code",
   "execution_count": 44,
   "metadata": {
    "ExecuteTime": {
     "end_time": "2019-09-12T08:09:06.061209Z",
     "start_time": "2019-09-12T08:09:05.952209Z"
    }
   },
   "outputs": [],
   "source": [
    "w2_BN = tf.Variable(w2_initial)\n",
    "z2_BN = tf.matmul(l1_BN,w2_BN)\n",
    "\n",
    "batch_mean2, batch_var2 = tf.nn.moments(z2_BN,[0])\n",
    "scale2 = tf.Variable(tf.ones([100]))\n",
    "beta2 = tf.Variable(tf.zeros([100]))\n",
    "BN2 = tf.nn.batch_normalization(z2_BN,batch_mean2,batch_var2,beta2,scale2,epsilon)\n",
    "# l2_BN = tf.nn.sigmoid(BN2)\n",
    "l2_BN = tf.nn.relu(BN2)"
   ]
  },
  {
   "cell_type": "markdown",
   "metadata": {},
   "source": [
    "Layer 3 层：接无BN的layer2"
   ]
  },
  {
   "cell_type": "code",
   "execution_count": 45,
   "metadata": {
    "ExecuteTime": {
     "end_time": "2019-09-12T08:09:06.158209Z",
     "start_time": "2019-09-12T08:09:06.086209Z"
    }
   },
   "outputs": [],
   "source": [
    "w3 = tf.Variable(w3_initial)\n",
    "b3 = tf.Variable(tf.zeros([10]))\n",
    "y  = tf.nn.softmax(tf.matmul(l2,w3)+b3)"
   ]
  },
  {
   "cell_type": "markdown",
   "metadata": {},
   "source": [
    "Layer 3 层：接有BN的layer2"
   ]
  },
  {
   "cell_type": "code",
   "execution_count": 46,
   "metadata": {
    "ExecuteTime": {
     "end_time": "2019-09-12T08:09:06.264209Z",
     "start_time": "2019-09-12T08:09:06.165209Z"
    }
   },
   "outputs": [
    {
     "name": "stdout",
     "output_type": "stream",
     "text": [
      "(?, 10)\n"
     ]
    }
   ],
   "source": [
    "# w3_BN = tf.Variable(w3_initial)\n",
    "# b3_BN = tf.Variable(tf.zeros([10]))\n",
    "# y_BN  = tf.nn.softmax(tf.matmul(l2_BN,w3_BN)+b3_BN)\n",
    "\n",
    "w3_BN = tf.Variable(w3_initial)\n",
    "z3_BN = tf.matmul(l2_BN,w3_BN)\n",
    "\n",
    "batch_mean3, batch_var3 = tf.nn.moments(z3_BN,[0])\n",
    "scale3 = tf.Variable(tf.ones([10]))\n",
    "beta3 = tf.Variable(tf.zeros([10]))\n",
    "BN3 = tf.nn.batch_normalization(z3_BN,batch_mean3,batch_var3,beta3,scale3,epsilon)\n",
    "\n",
    "print(BN3.get_shape())\n",
    "y_BN  = tf.nn.softmax(BN3)"
   ]
  },
  {
   "cell_type": "markdown",
   "metadata": {},
   "source": [
    "定义损失、优化器、预测三个op，分别针对双层BN网络、单层BN网络。\n",
    "损失使用交叉熵，因为我们输出层的激活函数为softmax。\n",
    "优化器用梯度下降，因为我们是分批喂数，因此实际上就是分批SGD"
   ]
  },
  {
   "cell_type": "code",
   "execution_count": 47,
   "metadata": {
    "ExecuteTime": {
     "end_time": "2019-09-12T08:09:07.781209Z",
     "start_time": "2019-09-12T08:09:06.271209Z"
    }
   },
   "outputs": [],
   "source": [
    "cross_entropy = -tf.reduce_sum(y_*tf.log(y))\n",
    "cross_entropy_BN = -tf.reduce_sum(y_*tf.log(y_BN))\n",
    "\n",
    "train_step = tf.train.GradientDescentOptimizer(0.01).minimize(cross_entropy)\n",
    "train_step_BN = tf.train.GradientDescentOptimizer(0.01).minimize(cross_entropy_BN)\n",
    "\n",
    "correct_prediction = tf.equal(tf.arg_max(y,1),tf.arg_max(y_,1))\n",
    "accuracy = tf.reduce_mean(tf.cast(correct_prediction,tf.float32))\n",
    "correct_prediction_BN = tf.equal(tf.arg_max(y_BN,1),tf.arg_max(y_,1))\n",
    "accuracy_BN = tf.reduce_mean(tf.cast(correct_prediction_BN,tf.float32))"
   ]
  },
  {
   "cell_type": "markdown",
   "metadata": {},
   "source": [
    "训练"
   ]
  },
  {
   "cell_type": "code",
   "execution_count": 48,
   "metadata": {
    "ExecuteTime": {
     "end_time": "2019-09-12T08:15:31.566209Z",
     "start_time": "2019-09-12T08:09:07.803209Z"
    }
   },
   "outputs": [
    {
     "name": "stderr",
     "output_type": "stream",
     "text": [
      "100%|███████████████████████████████████| 40000/40000 [06:23<00:00, 104.32it/s]\n"
     ]
    }
   ],
   "source": [
    "zs, BNs, acc, acc_BN = [], [], [], []\n",
    "\n",
    "sess = tf.InteractiveSession()\n",
    "sess.run(tf.global_variables_initializer())\n",
    "for i in tqdm.tqdm(range(40000)):\n",
    "    batch = mnist.train.next_batch(60)\n",
    "    \n",
    "    # 运行train_step，训练无BN网络\n",
    "    train_step.run(feed_dict={x: batch[0], y_: batch[1]})\n",
    "    # 运行train_step_BN，训练有BN的网络\n",
    "    train_step_BN.run(feed_dict={x: batch[0], y_: batch[1]})\n",
    "    \n",
    "    if i % 50 is 0:\n",
    "        # 每50个batch，测一测精度，并把第二层的加权输入，没进BN层之前的z2，被BN层处理过的BN2，都算一遍\n",
    "        res = sess.run([accuracy,accuracy_BN,z2,BN2],feed_dict={x: mnist.test.images, y_: mnist.test.labels})\n",
    "        \n",
    "        # 保存训练阶段的精度记录，acc是无BN网络的记录，acc_BN是有BN网络的记录，\n",
    "        acc.append(res[0])\n",
    "        acc_BN.append(res[1])\n",
    "        \n",
    "        # 保存训练阶段的z2，BN2的历史记录\n",
    "        zs.append(np.mean(res[2],axis=0)) # record the mean value of z2 over the entire test set\n",
    "        BNs.append(np.mean(res[3],axis=0)) # record the mean value of BN2 over the entire test set\n",
    "\n",
    "zs, BNs, acc, acc_BN = np.array(zs), np.array(BNs), np.array(acc), np.array(acc_BN)"
   ]
  },
  {
   "cell_type": "markdown",
   "metadata": {
    "ExecuteTime": {
     "end_time": "2019-09-12T08:15:31.574209Z",
     "start_time": "2019-09-12T08:15:31.568209Z"
    }
   },
   "source": [
    "绘制精度训练曲线，结果表明：BN的加入，大大提升了"
   ]
  },
  {
   "cell_type": "code",
   "execution_count": 50,
   "metadata": {
    "ExecuteTime": {
     "end_time": "2019-09-12T08:52:19.994509Z",
     "start_time": "2019-09-12T08:52:19.392509Z"
    }
   },
   "outputs": [
    {
     "data": {
      "image/png": "[encoded data removed]",
      "text/plain": [
       "<Figure size 432x288 with 1 Axes>"
      ]
     },
     "metadata": {
      "needs_background": "light"
     },
     "output_type": "display_data"
    }
   ],
   "source": [
    "fig, ax = plt.subplots()\n",
    "\n",
    "ax.plot(range(0,len(acc)*50,50),acc, label='Without BN')\n",
    "ax.plot(range(0,len(acc)*50,50),acc_BN, label='With BN')\n",
    "ax.set_xlabel('Training steps')\n",
    "ax.set_ylabel('Accuracy')\n",
    "# ax.set_ylim([0.8,1])\n",
    "ax.set_title('Batch Normalization Accuracy')\n",
    "ax.legend(loc=4)\n",
    "plt.show()"
   ]
  },
  {
   "cell_type": "code",
   "execution_count": 51,
   "metadata": {
    "ExecuteTime": {
     "end_time": "2019-09-12T08:52:48.875509Z",
     "start_time": "2019-09-12T08:52:44.050509Z"
    }
   },
   "outputs": [
    {
     "data": {
      "image/png": "[encoded data removed]",
      "text/plain": [
       "<Figure size 432x864 with 10 Axes>"
      ]
     },
     "metadata": {
      "needs_background": "light"
     },
     "output_type": "display_data"
    }
   ],
   "source": [
    "fig, axes = plt.subplots(5, 2, figsize=(6,12))\n",
    "fig.tight_layout()\n",
    "\n",
    "for i, ax in enumerate(axes):\n",
    "    ax[0].set_title(\"Without BN\")\n",
    "    ax[1].set_title(\"With BN\")\n",
    "    ax[0].plot(zs[:,i])\n",
    "    ax[1].plot(BNs[:,i])\n",
    "plt.show()"
   ]
  },
  {
   "cell_type": "code",
   "execution_count": 52,
   "metadata": {
    "ExecuteTime": {
     "end_time": "2019-09-12T08:53:16.636509Z",
     "start_time": "2019-09-12T08:53:05.221509Z"
    }
   },
   "outputs": [
    {
     "name": "stdout",
     "output_type": "stream",
     "text": [
      "PREDICTIONS: [8, 8, 8, 8, 8, 8, 8, 8, 8, 8, 8, 8, 8, 8, 8, 8, 8, 8, 8, 8, 8, 8, 8, 8, 8, 8, 8, 8, 8, 8, 8, 8, 8, 8, 8, 8, 8, 8, 8, 8, 8, 8, 8, 8, 8, 8, 8, 8, 8, 8, 8, 8, 8, 8, 8, 8, 8, 8, 8, 8, 8, 8, 8, 8, 8, 8, 8, 8, 8, 8, 8, 8, 8, 8, 8, 8, 8, 8, 8, 8, 8, 8, 8, 8, 8, 8, 8, 8, 8, 8, 8, 8, 8, 8, 8, 8, 8, 8, 8, 8]\n",
      "ACCURACY: 0.02\n"
     ]
    }
   ],
   "source": [
    "predictions = []\n",
    "correct = 0\n",
    "for i in range(100):\n",
    "    pred, corr = sess.run([tf.arg_max(y_BN,1), accuracy_BN],\n",
    "                         feed_dict={x: [mnist.test.images[i]], y_: [mnist.test.labels[i]]})\n",
    "    correct += corr\n",
    "    predictions.append(pred[0])\n",
    "print(\"PREDICTIONS:\", predictions)\n",
    "print(\"ACCURACY:\", correct/100)\n",
    "sess.close()"
   ]
  },
  {
   "cell_type": "markdown",
   "metadata": {},
   "source": [
    "## 实际应用的细节\n",
    "\n",
    "需要注意一下几点：\n",
    "\n"
   ]
  },
  {
   "cell_type": "code",
   "execution_count": 58,
   "metadata": {
    "ExecuteTime": {
     "end_time": "2019-09-12T09:11:15.010509Z",
     "start_time": "2019-09-12T09:11:14.977509Z"
    }
   },
   "outputs": [],
   "source": [
    "# batch_norm_wrapper 是对tensorflow中BN层实现的一个核心功能的重现。\n",
    "# https://github.com/tensorflow/tensorflow/blob/master/tensorflow/contrib/layers/python/layers/layers.py#L102\n",
    "# 其功能是：对于每个batch的每一层的加权输入\n",
    "# 在训练阶段，统计方差和均值，一边记录和更新总体方差和均值。\n",
    "# 在测试/评估阶段，直接使用训练时统计好的总体方差和均值。\n",
    "def batch_norm_wrapper(inputs, is_training, decay = 0.999):\n",
    "\n",
    "    # 每个BN层，引入了4个变量 scale beta pop_mean pop_var，其中:\n",
    "    # scale beta 是可训练的，训练结束后被保存为模型参数\n",
    "    # pop_mean pop_var 是不可训练，只在训练中进行统计，\n",
    "    # pop_mean pop_var 最终保存为模型的变量。在测试时重构的计算图会接入该变量，只要载入训练参数即可。\n",
    "    scale = tf.Variable(tf.ones([inputs.get_shape()[-1]]))\n",
    "    beta = tf.Variable(tf.zeros([inputs.get_shape()[-1]]))\n",
    "    pop_mean = tf.Variable(tf.zeros([inputs.get_shape()[-1]]), trainable=False)\n",
    "    pop_var = tf.Variable(tf.ones([inputs.get_shape()[-1]]), trainable=False)\n",
    "\n",
    "    if is_training:\n",
    "        # 以下为训练时的BN计算图构造\n",
    "        # batch_mean、batch_var在一个batch里的每一层，在前向传播时会计算一次，\n",
    "        # 在反传时通过它来计算本层输入加权和的梯度，仅仅作为整个网络传递梯度的功能。在训练结束后被废弃。\n",
    "        batch_mean, batch_var = tf.nn.moments(inputs,[0])\n",
    "        \n",
    "        # 通过移动指数平均的方式，把每一个batch的统计量汇总进来，更新总体统计量的估计值pop_mean、pop_var\n",
    "        # assign构建计算图一个operation，即把pop_mean * decay + batch_mean * (1 - decay) 赋值给pop_mean\n",
    "        train_mean = tf.assign(pop_mean,pop_mean * decay + batch_mean * (1 - decay))\n",
    "        train_var = tf.assign(pop_var,pop_var * decay + batch_var * (1 - decay))\n",
    "\n",
    "        # 确保本层的train_mean、train_var这两个operation都执行了，才进行BN。\n",
    "        with tf.control_dependencies([train_mean, train_var]):\n",
    "            return tf.nn.batch_normalization(inputs,batch_mean, batch_var, beta, scale, epsilon)\n",
    "    else:\n",
    "        # 以下为测试时的BN计算图构造，即直接载入已训练模型的beta, scale,已训练模型中保存的pop_mean, pop_var\n",
    "        return tf.nn.batch_normalization(inputs,pop_mean, pop_var, beta, scale, epsilon)"
   ]
  },
  {
   "cell_type": "markdown",
   "metadata": {
    "ExecuteTime": {
     "end_time": "2019-09-12T09:10:57.550509Z",
     "start_time": "2019-09-12T09:10:57.518509Z"
    }
   },
   "source": [
    "构造计算图，其中通过调用上面定义好的BN包装器，实现BN层的简洁添加。"
   ]
  },
  {
   "cell_type": "code",
   "execution_count": 59,
   "metadata": {
    "ExecuteTime": {
     "end_time": "2019-09-12T09:11:16.576509Z",
     "start_time": "2019-09-12T09:11:16.525509Z"
    }
   },
   "outputs": [],
   "source": [
    "def build_graph(is_training):\n",
    "    x = tf.placeholder(tf.float32, shape=[None, 784],name=\"x\")\n",
    "    y_ = tf.placeholder(tf.float32, shape=[None, 10],name=\"y_\")\n",
    "\n",
    "    w1 = tf.Variable(w1_initial)\n",
    "    z1 = tf.matmul(x,w1)\n",
    "    bn1 = batch_norm_wrapper(z1, is_training)\n",
    "    l1 = tf.nn.sigmoid(bn1)\n",
    "\n",
    "    w2 = tf.Variable(w2_initial)\n",
    "    z2 = tf.matmul(l1,w2)\n",
    "    bn2 = batch_norm_wrapper(z2, is_training)\n",
    "    l2 = tf.nn.sigmoid(bn2)\n",
    "\n",
    "    w3 = tf.Variable(w3_initial)\n",
    "    # b3 = tf.Variable(tf.zeros([10]))\n",
    "    # y  = tf.nn.softmax(tf.matmul(l2, w3))\n",
    "    z3 = tf.matmul(l2,w3)\n",
    "    bn3 = batch_norm_wrapper(z3, is_training)\n",
    "    y  = tf.nn.softmax(bn3)\n",
    "\n",
    "\n",
    "    cross_entropy = -tf.reduce_sum(y_*tf.log(y))\n",
    "    train_step = tf.train.GradientDescentOptimizer(0.01).minimize(cross_entropy)\n",
    "    correct_prediction = tf.equal(tf.arg_max(y,1),tf.arg_max(y_,1))\n",
    "    accuracy = tf.reduce_mean(tf.cast(correct_prediction,tf.float32),name='accuracy')\n",
    "\n",
    "    return (x, y_), train_step, accuracy, y"
   ]
  },
  {
   "cell_type": "code",
   "execution_count": 78,
   "metadata": {
    "ExecuteTime": {
     "end_time": "2019-09-12T12:32:42.270009Z",
     "start_time": "2019-09-12T12:32:42.036009Z"
    }
   },
   "outputs": [],
   "source": [
    "def build_graph_0(is_training):\n",
    "    x = tf.placeholder(tf.float32, shape=[None, 784],name=\"x\")\n",
    "    y_ = tf.placeholder(tf.float32, shape=[None, 10],name=\"y_\")\n",
    "\n",
    "    w1 = tf.Variable(w1_initial)\n",
    "    b1 = tf.Variable(tf.zeros([100]))\n",
    "    l1 = tf.nn.sigmoid(tf.matmul(x, w1)+b1)\n",
    "\n",
    "    w2 = tf.Variable(w2_initial)\n",
    "    b2 = tf.Variable(tf.zeros([100]))\n",
    "    l2 = tf.nn.sigmoid(tf.matmul(l1, w2)+b2)\n",
    "\n",
    "    w3 = tf.Variable(w3_initial)\n",
    "    b3 = tf.Variable(tf.zeros([10]))\n",
    "    y  = tf.nn.softmax(tf.matmul(l2, w3)+b3)\n",
    "\n",
    "    cross_entropy = -tf.reduce_sum(y_*tf.log(y))\n",
    "    train_step = tf.train.GradientDescentOptimizer(0.05).minimize(cross_entropy)\n",
    "    correct_prediction = tf.equal(tf.arg_max(y,1),tf.arg_max(y_,1))\n",
    "    accuracy = tf.reduce_mean(tf.cast(correct_prediction,tf.float32),name='accuracy')\n",
    "\n",
    "    return (x, y_), train_step, accuracy, y\n",
    "\n",
    "def build_graph_1(is_training):\n",
    "    x = tf.placeholder(tf.float32, shape=[None, 784],name=\"x\")\n",
    "    y_ = tf.placeholder(tf.float32, shape=[None, 10],name=\"y_\")\n",
    "\n",
    "    w1 = tf.Variable(w1_initial)\n",
    "    z1 = tf.matmul(x,w1)\n",
    "    bn1 = batch_norm_wrapper(z1, is_training)\n",
    "    l1 = tf.nn.sigmoid(bn1)\n",
    "\n",
    "    w2 = tf.Variable(w2_initial)\n",
    "    b2 = tf.Variable(tf.zeros([100]))\n",
    "    l2 = tf.nn.sigmoid(tf.matmul(l1, w2)+b2)\n",
    "\n",
    "    w3 = tf.Variable(w3_initial)\n",
    "    b3 = tf.Variable(tf.zeros([10]))\n",
    "    y  = tf.nn.softmax(tf.matmul(l2, w3)+b3)\n",
    "\n",
    "    cross_entropy = -tf.reduce_sum(y_*tf.log(y))\n",
    "    train_step = tf.train.GradientDescentOptimizer(0.05).minimize(cross_entropy)\n",
    "    correct_prediction = tf.equal(tf.arg_max(y,1),tf.arg_max(y_,1))\n",
    "    accuracy = tf.reduce_mean(tf.cast(correct_prediction,tf.float32),name='accuracy')\n",
    "\n",
    "    return (x, y_), train_step, accuracy, y\n",
    "\n",
    "def build_graph_2(is_training):\n",
    "    x = tf.placeholder(tf.float32, shape=[None, 784],name=\"x\")\n",
    "    y_ = tf.placeholder(tf.float32, shape=[None, 10],name=\"y_\")\n",
    "\n",
    "    w1 = tf.Variable(w1_initial)\n",
    "    z1 = tf.matmul(x,w1)\n",
    "    bn1 = batch_norm_wrapper(z1, is_training)\n",
    "    l1 = tf.nn.sigmoid(bn1)\n",
    "\n",
    "    w2 = tf.Variable(w2_initial)\n",
    "    z2 = tf.matmul(l1,w2)\n",
    "    bn2 = batch_norm_wrapper(z2, is_training)\n",
    "    l2 = tf.nn.sigmoid(bn2)\n",
    "\n",
    "    w3 = tf.Variable(w3_initial)\n",
    "    b3 = tf.Variable(tf.zeros([10]))\n",
    "    y  = tf.nn.softmax(tf.matmul(l2, w3)+b3)\n",
    "\n",
    "    cross_entropy = -tf.reduce_sum(y_*tf.log(y))\n",
    "    train_step = tf.train.GradientDescentOptimizer(0.05).minimize(cross_entropy)\n",
    "    correct_prediction = tf.equal(tf.arg_max(y,1),tf.arg_max(y_,1))\n",
    "    accuracy = tf.reduce_mean(tf.cast(correct_prediction,tf.float32),name='accuracy')\n",
    "\n",
    "    return (x, y_), train_step, accuracy, y\n",
    "\n",
    "def build_graph_3(is_training):\n",
    "    x = tf.placeholder(tf.float32, shape=[None, 784],name=\"x\")\n",
    "    y_ = tf.placeholder(tf.float32, shape=[None, 10],name=\"y_\")\n",
    "\n",
    "    w1 = tf.Variable(w1_initial)\n",
    "    z1 = tf.matmul(x,w1)\n",
    "    bn1 = batch_norm_wrapper(z1, is_training)\n",
    "    l1 = tf.nn.sigmoid(bn1)\n",
    "\n",
    "    w2 = tf.Variable(w2_initial)\n",
    "    z2 = tf.matmul(l1,w2)\n",
    "    bn2 = batch_norm_wrapper(z2, is_training)\n",
    "    l2 = tf.nn.sigmoid(bn2)\n",
    "\n",
    "    w3 = tf.Variable(w3_initial)\n",
    "    # b3 = tf.Variable(tf.zeros([10]))\n",
    "    # y  = tf.nn.softmax(tf.matmul(l2, w3))\n",
    "    z3 = tf.matmul(l2,w3)\n",
    "    bn3 = batch_norm_wrapper(z3, is_training)\n",
    "    y  = tf.nn.softmax(bn3)\n",
    "\n",
    "\n",
    "    cross_entropy = -tf.reduce_sum(y_*tf.log(y))\n",
    "    train_step = tf.train.GradientDescentOptimizer(0.05).minimize(cross_entropy)\n",
    "    correct_prediction = tf.equal(tf.arg_max(y,1),tf.arg_max(y_,1))\n",
    "    accuracy = tf.reduce_mean(tf.cast(correct_prediction,tf.float32),name='accuracy')\n",
    "\n",
    "    return (x, y_), train_step, accuracy, y"
   ]
  },
  {
   "cell_type": "markdown",
   "metadata": {
    "ExecuteTime": {
     "end_time": "2019-09-12T08:15:31.585209Z",
     "start_time": "2019-09-12T08:09:05.683Z"
    }
   },
   "source": [
    "训练"
   ]
  },
  {
   "cell_type": "code",
   "execution_count": 61,
   "metadata": {
    "ExecuteTime": {
     "end_time": "2019-09-12T09:15:02.055509Z",
     "start_time": "2019-09-12T09:14:16.862509Z"
    },
    "scrolled": false
   },
   "outputs": [
    {
     "name": "stderr",
     "output_type": "stream",
     "text": [
      "\r",
      "  0%|                                                | 0/10000 [00:00<?, ?it/s]"
     ]
    },
    {
     "name": "stdout",
     "output_type": "stream",
     "text": [
      "batch: 0     accuracy: 0.1011\n"
     ]
    },
    {
     "name": "stderr",
     "output_type": "stream",
     "text": [
      "  2%|▋                                     | 189/10000 [00:02<02:30, 65.15it/s]"
     ]
    },
    {
     "name": "stdout",
     "output_type": "stream",
     "text": [
      "batch: 200     accuracy: 0.7937\n"
     ]
    },
    {
     "name": "stderr",
     "output_type": "stream",
     "text": [
      "  4%|█▍                                   | 386/10000 [00:03<00:53, 178.67it/s]"
     ]
    },
    {
     "name": "stdout",
     "output_type": "stream",
     "text": [
      "batch: 400     accuracy: 0.858\n"
     ]
    },
    {
     "name": "stderr",
     "output_type": "stream",
     "text": [
      "  6%|██▏                                  | 594/10000 [00:04<00:41, 225.50it/s]"
     ]
    },
    {
     "name": "stdout",
     "output_type": "stream",
     "text": [
      "batch: 600     accuracy: 0.8776\n"
     ]
    },
    {
     "name": "stderr",
     "output_type": "stream",
     "text": [
      "  8%|██▉                                  | 781/10000 [00:05<00:41, 221.87it/s]"
     ]
    },
    {
     "name": "stdout",
     "output_type": "stream",
     "text": [
      "batch: 800     accuracy: 0.8902\n"
     ]
    },
    {
     "name": "stderr",
     "output_type": "stream",
     "text": [
      " 10%|███▌                                 | 975/10000 [00:06<00:32, 278.10it/s]"
     ]
    },
    {
     "name": "stdout",
     "output_type": "stream",
     "text": [
      "batch: 1000     accuracy: 0.8968\n"
     ]
    },
    {
     "name": "stderr",
     "output_type": "stream",
     "text": [
      " 12%|████▎                               | 1186/10000 [00:07<00:35, 247.65it/s]"
     ]
    },
    {
     "name": "stdout",
     "output_type": "stream",
     "text": [
      "batch: 1200     accuracy: 0.9023\n"
     ]
    },
    {
     "name": "stderr",
     "output_type": "stream",
     "text": [
      " 14%|████▉                               | 1378/10000 [00:08<00:31, 277.18it/s]"
     ]
    },
    {
     "name": "stdout",
     "output_type": "stream",
     "text": [
      "batch: 1400     accuracy: 0.9079\n"
     ]
    },
    {
     "name": "stderr",
     "output_type": "stream",
     "text": [
      " 16%|█████▋                              | 1567/10000 [00:08<00:29, 287.66it/s]"
     ]
    },
    {
     "name": "stdout",
     "output_type": "stream",
     "text": [
      "batch: 1600     accuracy: 0.911\n"
     ]
    },
    {
     "name": "stderr",
     "output_type": "stream",
     "text": [
      " 18%|██████▍                             | 1798/10000 [00:09<00:25, 322.26it/s]"
     ]
    },
    {
     "name": "stdout",
     "output_type": "stream",
     "text": [
      "batch: 1800     accuracy: 0.914\n"
     ]
    },
    {
     "name": "stderr",
     "output_type": "stream",
     "text": [
      " 20%|███████                             | 1970/10000 [00:10<00:26, 307.88it/s]"
     ]
    },
    {
     "name": "stdout",
     "output_type": "stream",
     "text": [
      "batch: 2000     accuracy: 0.9158\n"
     ]
    },
    {
     "name": "stderr",
     "output_type": "stream",
     "text": [
      " 22%|███████▉                            | 2197/10000 [00:11<00:28, 277.21it/s]"
     ]
    },
    {
     "name": "stdout",
     "output_type": "stream",
     "text": [
      "batch: 2200     accuracy: 0.9184\n"
     ]
    },
    {
     "name": "stderr",
     "output_type": "stream",
     "text": [
      " 24%|████████▌                           | 2395/10000 [00:12<00:24, 304.39it/s]"
     ]
    },
    {
     "name": "stdout",
     "output_type": "stream",
     "text": [
      "batch: 2400     accuracy: 0.9183\n"
     ]
    },
    {
     "name": "stderr",
     "output_type": "stream",
     "text": [
      " 26%|█████████▎                          | 2582/10000 [00:12<00:28, 264.38it/s]"
     ]
    },
    {
     "name": "stdout",
     "output_type": "stream",
     "text": [
      "batch: 2600     accuracy: 0.9195\n"
     ]
    },
    {
     "name": "stderr",
     "output_type": "stream",
     "text": [
      " 28%|██████████                          | 2781/10000 [00:13<00:24, 295.19it/s]"
     ]
    },
    {
     "name": "stdout",
     "output_type": "stream",
     "text": [
      "batch: 2800     accuracy: 0.9236\n"
     ]
    },
    {
     "name": "stderr",
     "output_type": "stream",
     "text": [
      " 30%|██████████▋                         | 2966/10000 [00:14<00:29, 240.21it/s]"
     ]
    },
    {
     "name": "stdout",
     "output_type": "stream",
     "text": [
      "batch: 3000     accuracy: 0.9238\n"
     ]
    },
    {
     "name": "stderr",
     "output_type": "stream",
     "text": [
      " 32%|███████████▍                        | 3170/10000 [00:15<00:25, 271.05it/s]"
     ]
    },
    {
     "name": "stdout",
     "output_type": "stream",
     "text": [
      "batch: 3200     accuracy: 0.9256\n"
     ]
    },
    {
     "name": "stderr",
     "output_type": "stream",
     "text": [
      " 34%|████████████▏                       | 3385/10000 [00:16<00:23, 285.05it/s]"
     ]
    },
    {
     "name": "stdout",
     "output_type": "stream",
     "text": [
      "batch: 3400     accuracy: 0.9259\n"
     ]
    },
    {
     "name": "stderr",
     "output_type": "stream",
     "text": [
      " 36%|████████████▉                       | 3592/10000 [00:16<00:20, 310.02it/s]"
     ]
    },
    {
     "name": "stdout",
     "output_type": "stream",
     "text": [
      "batch: 3600     accuracy: 0.9296\n"
     ]
    },
    {
     "name": "stderr",
     "output_type": "stream",
     "text": [
      " 38%|█████████████▋                      | 3793/10000 [00:17<00:20, 304.59it/s]"
     ]
    },
    {
     "name": "stdout",
     "output_type": "stream",
     "text": [
      "batch: 3800     accuracy: 0.9314\n"
     ]
    },
    {
     "name": "stderr",
     "output_type": "stream",
     "text": [
      " 40%|██████████████▎                     | 3984/10000 [00:18<00:24, 247.20it/s]"
     ]
    },
    {
     "name": "stdout",
     "output_type": "stream",
     "text": [
      "batch: 4000     accuracy: 0.9305\n"
     ]
    },
    {
     "name": "stderr",
     "output_type": "stream",
     "text": [
      " 42%|███████████████                     | 4173/10000 [00:19<00:23, 249.08it/s]"
     ]
    },
    {
     "name": "stdout",
     "output_type": "stream",
     "text": [
      "batch: 4200     accuracy: 0.9312\n"
     ]
    },
    {
     "name": "stderr",
     "output_type": "stream",
     "text": [
      " 44%|███████████████▊                    | 4396/10000 [00:20<00:19, 293.92it/s]"
     ]
    },
    {
     "name": "stdout",
     "output_type": "stream",
     "text": [
      "batch: 4400     accuracy: 0.9364\n"
     ]
    },
    {
     "name": "stderr",
     "output_type": "stream",
     "text": [
      " 46%|████████████████▌                   | 4595/10000 [00:21<00:19, 280.67it/s]"
     ]
    },
    {
     "name": "stdout",
     "output_type": "stream",
     "text": [
      "batch: 4600     accuracy: 0.9345\n"
     ]
    },
    {
     "name": "stderr",
     "output_type": "stream",
     "text": [
      " 48%|█████████████████▎                  | 4796/10000 [00:21<00:19, 261.10it/s]"
     ]
    },
    {
     "name": "stdout",
     "output_type": "stream",
     "text": [
      "batch: 4800     accuracy: 0.9373\n"
     ]
    },
    {
     "name": "stderr",
     "output_type": "stream",
     "text": [
      " 50%|█████████████████▉                  | 4988/10000 [00:22<00:17, 284.73it/s]"
     ]
    },
    {
     "name": "stdout",
     "output_type": "stream",
     "text": [
      "batch: 5000     accuracy: 0.9367\n"
     ]
    },
    {
     "name": "stderr",
     "output_type": "stream",
     "text": [
      " 52%|██████████████████▌                 | 5171/10000 [00:23<00:23, 203.79it/s]"
     ]
    },
    {
     "name": "stdout",
     "output_type": "stream",
     "text": [
      "batch: 5200     accuracy: 0.9398\n"
     ]
    },
    {
     "name": "stderr",
     "output_type": "stream",
     "text": [
      " 54%|███████████████████▎                | 5368/10000 [00:24<00:15, 296.93it/s]"
     ]
    },
    {
     "name": "stdout",
     "output_type": "stream",
     "text": [
      "batch: 5400     accuracy: 0.94\n"
     ]
    },
    {
     "name": "stderr",
     "output_type": "stream",
     "text": [
      " 56%|████████████████████                | 5565/10000 [00:25<00:14, 308.67it/s]"
     ]
    },
    {
     "name": "stdout",
     "output_type": "stream",
     "text": [
      "batch: 5600     accuracy: 0.9412\n"
     ]
    },
    {
     "name": "stderr",
     "output_type": "stream",
     "text": [
      " 58%|████████████████████▊               | 5798/10000 [00:25<00:14, 280.48it/s]"
     ]
    },
    {
     "name": "stdout",
     "output_type": "stream",
     "text": [
      "batch: 5800     accuracy: 0.9401\n"
     ]
    },
    {
     "name": "stderr",
     "output_type": "stream",
     "text": [
      " 60%|█████████████████████▌              | 5991/10000 [00:26<00:13, 299.21it/s]"
     ]
    },
    {
     "name": "stdout",
     "output_type": "stream",
     "text": [
      "batch: 6000     accuracy: 0.945\n"
     ]
    },
    {
     "name": "stderr",
     "output_type": "stream",
     "text": [
      " 62%|██████████████████████▎             | 6195/10000 [00:27<00:18, 211.36it/s]"
     ]
    },
    {
     "name": "stdout",
     "output_type": "stream",
     "text": [
      "batch: 6200     accuracy: 0.9447\n"
     ]
    },
    {
     "name": "stderr",
     "output_type": "stream",
     "text": [
      " 64%|██████████████████████▉             | 6380/10000 [00:28<00:18, 194.49it/s]"
     ]
    },
    {
     "name": "stdout",
     "output_type": "stream",
     "text": [
      "batch: 6400     accuracy: 0.9447\n"
     ]
    },
    {
     "name": "stderr",
     "output_type": "stream",
     "text": [
      " 66%|███████████████████████▊            | 6598/10000 [00:29<00:16, 208.42it/s]"
     ]
    },
    {
     "name": "stdout",
     "output_type": "stream",
     "text": [
      "batch: 6600     accuracy: 0.9463\n"
     ]
    },
    {
     "name": "stderr",
     "output_type": "stream",
     "text": [
      " 68%|████████████████████████▍           | 6780/10000 [00:30<00:11, 284.69it/s]"
     ]
    },
    {
     "name": "stdout",
     "output_type": "stream",
     "text": [
      "batch: 6800     accuracy: 0.9472\n"
     ]
    },
    {
     "name": "stderr",
     "output_type": "stream",
     "text": [
      " 70%|█████████████████████████           | 6977/10000 [00:31<00:10, 294.05it/s]"
     ]
    },
    {
     "name": "stdout",
     "output_type": "stream",
     "text": [
      "batch: 7000     accuracy: 0.9464\n"
     ]
    },
    {
     "name": "stderr",
     "output_type": "stream",
     "text": [
      " 72%|█████████████████████████▊          | 7180/10000 [00:31<00:09, 294.66it/s]"
     ]
    },
    {
     "name": "stdout",
     "output_type": "stream",
     "text": [
      "batch: 7200     accuracy: 0.9484\n"
     ]
    },
    {
     "name": "stderr",
     "output_type": "stream",
     "text": [
      " 74%|██████████████████████████▌         | 7386/10000 [00:32<00:08, 321.63it/s]"
     ]
    },
    {
     "name": "stdout",
     "output_type": "stream",
     "text": [
      "batch: 7400     accuracy: 0.9487\n"
     ]
    },
    {
     "name": "stderr",
     "output_type": "stream",
     "text": [
      " 76%|███████████████████████████▎        | 7570/10000 [00:33<00:09, 254.87it/s]"
     ]
    },
    {
     "name": "stdout",
     "output_type": "stream",
     "text": [
      "batch: 7600     accuracy: 0.9495\n"
     ]
    },
    {
     "name": "stderr",
     "output_type": "stream",
     "text": [
      " 78%|████████████████████████████        | 7788/10000 [00:34<00:10, 215.15it/s]"
     ]
    },
    {
     "name": "stdout",
     "output_type": "stream",
     "text": [
      "batch: 7800     accuracy: 0.9506\n"
     ]
    },
    {
     "name": "stderr",
     "output_type": "stream",
     "text": [
      " 80%|████████████████████████████▊       | 7998/10000 [00:35<00:07, 280.75it/s]"
     ]
    },
    {
     "name": "stdout",
     "output_type": "stream",
     "text": [
      "batch: 8000     accuracy: 0.9515\n"
     ]
    },
    {
     "name": "stderr",
     "output_type": "stream",
     "text": [
      " 82%|█████████████████████████████▍      | 8181/10000 [00:35<00:06, 278.42it/s]"
     ]
    },
    {
     "name": "stdout",
     "output_type": "stream",
     "text": [
      "batch: 8200     accuracy: 0.9522\n"
     ]
    },
    {
     "name": "stderr",
     "output_type": "stream",
     "text": [
      " 84%|██████████████████████████████▏     | 8382/10000 [00:36<00:05, 293.44it/s]"
     ]
    },
    {
     "name": "stdout",
     "output_type": "stream",
     "text": [
      "batch: 8400     accuracy: 0.9515\n"
     ]
    },
    {
     "name": "stderr",
     "output_type": "stream",
     "text": [
      " 86%|██████████████████████████████▉     | 8581/10000 [00:37<00:04, 296.45it/s]"
     ]
    },
    {
     "name": "stdout",
     "output_type": "stream",
     "text": [
      "batch: 8600     accuracy: 0.9543\n"
     ]
    },
    {
     "name": "stderr",
     "output_type": "stream",
     "text": [
      " 88%|███████████████████████████████▋    | 8796/10000 [00:38<00:04, 241.04it/s]"
     ]
    },
    {
     "name": "stdout",
     "output_type": "stream",
     "text": [
      "batch: 8800     accuracy: 0.9548\n"
     ]
    },
    {
     "name": "stderr",
     "output_type": "stream",
     "text": [
      " 90%|████████████████████████████████▍   | 8996/10000 [00:39<00:03, 263.86it/s]"
     ]
    },
    {
     "name": "stdout",
     "output_type": "stream",
     "text": [
      "batch: 9000     accuracy: 0.953\n"
     ]
    },
    {
     "name": "stderr",
     "output_type": "stream",
     "text": [
      " 92%|█████████████████████████████████   | 9173/10000 [00:40<00:03, 250.43it/s]"
     ]
    },
    {
     "name": "stdout",
     "output_type": "stream",
     "text": [
      "batch: 9200     accuracy: 0.9565\n"
     ]
    },
    {
     "name": "stderr",
     "output_type": "stream",
     "text": [
      " 94%|█████████████████████████████████▊  | 9400/10000 [00:40<00:02, 260.35it/s]"
     ]
    },
    {
     "name": "stdout",
     "output_type": "stream",
     "text": [
      "batch: 9400     accuracy: 0.955\n"
     ]
    },
    {
     "name": "stderr",
     "output_type": "stream",
     "text": [
      " 96%|██████████████████████████████████▌ | 9591/10000 [00:41<00:01, 289.83it/s]"
     ]
    },
    {
     "name": "stdout",
     "output_type": "stream",
     "text": [
      "batch: 9600     accuracy: 0.9561\n"
     ]
    },
    {
     "name": "stderr",
     "output_type": "stream",
     "text": [
      " 98%|███████████████████████████████████▏| 9778/10000 [00:42<00:00, 240.97it/s]"
     ]
    },
    {
     "name": "stdout",
     "output_type": "stream",
     "text": [
      "batch: 9800     accuracy: 0.9566\n"
     ]
    },
    {
     "name": "stderr",
     "output_type": "stream",
     "text": [
      "100%|███████████████████████████████████| 10000/10000 [00:43<00:00, 230.59it/s]\n"
     ]
    },
    {
     "name": "stdout",
     "output_type": "stream",
     "text": [
      "Final accuracy: 0.9566\n"
     ]
    }
   ],
   "source": [
    "#Build training graph, train and save the trained model\n",
    "\n",
    "\n",
    "tf.reset_default_graph()\n",
    "# (x, y_), train_step, accuracy, _, saver = build_graph(is_training=True)\n",
    "\n",
    "(x, y_), train_step, accuracy, _,= build_graph(is_training=True)\n",
    "\n",
    "\n",
    "acc = []\n",
    "with tf.Session() as sess:\n",
    "    sess.run(tf.global_variables_initializer())\n",
    "    for i in tqdm.tqdm(range(10000)):\n",
    "        batch = mnist.train.next_batch(60)\n",
    "        train_step.run(feed_dict={x: batch[0], y_: batch[1]})\n",
    "        if i % 200 is 0:\n",
    "            res = sess.run([accuracy],feed_dict={x: mnist.test.images, y_: mnist.test.labels})\n",
    "            acc.append(res[0])\n",
    "            # print('batch:',i,'    accuracy:',res[0])\n",
    "    # 保存模型，注意该模型是不可用的。因为其计算图是训练的计算图。\n",
    "    saver=tf.train.Saver()\n",
    "    # saved_model = saver.save(sess, './temp-bn-save')\n",
    "    saver.save(sess, './bn_test/temp-bn-save')\n",
    "\n",
    "print(\"Final accuracy:\", acc[-1])\n",
    "sess.close()"
   ]
  },
  {
   "cell_type": "code",
   "execution_count": 79,
   "metadata": {
    "ExecuteTime": {
     "end_time": "2019-09-12T12:35:04.657809Z",
     "start_time": "2019-09-12T12:32:49.340009Z"
    }
   },
   "outputs": [
    {
     "name": "stderr",
     "output_type": "stream",
     "text": [
      "100%|███████████████████████████████████| 10000/10000 [00:27<00:00, 357.53it/s]\n"
     ]
    },
    {
     "name": "stdout",
     "output_type": "stream",
     "text": [
      "0 Final accuracy: 0.098\n"
     ]
    },
    {
     "name": "stderr",
     "output_type": "stream",
     "text": [
      "100%|███████████████████████████████████| 10000/10000 [00:31<00:00, 322.18it/s]\n"
     ]
    },
    {
     "name": "stdout",
     "output_type": "stream",
     "text": [
      "1 Final accuracy: 0.098\n"
     ]
    },
    {
     "name": "stderr",
     "output_type": "stream",
     "text": [
      "100%|███████████████████████████████████| 10000/10000 [00:35<00:00, 280.25it/s]\n"
     ]
    },
    {
     "name": "stdout",
     "output_type": "stream",
     "text": [
      "2 Final accuracy: 0.9702\n"
     ]
    },
    {
     "name": "stderr",
     "output_type": "stream",
     "text": [
      "100%|███████████████████████████████████| 10000/10000 [00:38<00:00, 257.44it/s]\n"
     ]
    },
    {
     "name": "stdout",
     "output_type": "stream",
     "text": [
      "3 Final accuracy: 0.9717\n"
     ]
    }
   ],
   "source": [
    "#Build training graph, train and save the trained model\n",
    "\n",
    "\n",
    "tf.reset_default_graph()\n",
    "(x, y_), train_step, accuracy, _,= build_graph_0(is_training=True)\n",
    "\n",
    "\n",
    "acc0 = []\n",
    "with tf.Session() as sess:\n",
    "    sess.run(tf.global_variables_initializer())\n",
    "    for i in tqdm.tqdm(range(10000)):\n",
    "        batch = mnist.train.next_batch(60)\n",
    "        train_step.run(feed_dict={x: batch[0], y_: batch[1]})\n",
    "        if i % 200 is 0:\n",
    "            res = sess.run([accuracy],feed_dict={x: mnist.test.images, y_: mnist.test.labels})\n",
    "            acc0.append(res[0])\n",
    "            # print('batch:',i,'    accuracy:',res[0])\n",
    "    # 保存模型，注意该模型是不可用的。因为其计算图是训练的计算图。\n",
    "    # saver=tf.train.Saver()\n",
    "    # saved_model = saver.save(sess, './temp-bn-save')\n",
    "    # saver.save(sess, './bn_test/temp-bn-save')\n",
    "\n",
    "print(\"0 Final accuracy:\", acc0[-1])\n",
    "sess.close()\n",
    "\n",
    "\n",
    "tf.reset_default_graph()\n",
    "(x, y_), train_step, accuracy, _,= build_graph_1(is_training=True)\n",
    "acc1 = []\n",
    "with tf.Session() as sess:\n",
    "    sess.run(tf.global_variables_initializer())\n",
    "    for i in tqdm.tqdm(range(10000)):\n",
    "        batch = mnist.train.next_batch(60)\n",
    "        train_step.run(feed_dict={x: batch[0], y_: batch[1]})\n",
    "        if i % 200 is 0:\n",
    "            res = sess.run([accuracy],feed_dict={x: mnist.test.images, y_: mnist.test.labels})\n",
    "            acc1.append(res[0])\n",
    "            # print('batch:',i,'    accuracy:',res[0])\n",
    "    # 保存模型，注意该模型是不可用的。因为其计算图是训练的计算图。\n",
    "    # saver=tf.train.Saver()\n",
    "    # saved_model = saver.save(sess, './temp-bn-save')\n",
    "    # saver.save(sess, './bn_test/temp-bn-save')\n",
    "\n",
    "print(\"1 Final accuracy:\", acc1[-1])\n",
    "sess.close()\n",
    "\n",
    "\n",
    "tf.reset_default_graph()\n",
    "(x, y_), train_step, accuracy, _,= build_graph_2(is_training=True)\n",
    "acc2 = []\n",
    "with tf.Session() as sess:\n",
    "    sess.run(tf.global_variables_initializer())\n",
    "    for i in tqdm.tqdm(range(10000)):\n",
    "        batch = mnist.train.next_batch(60)\n",
    "        train_step.run(feed_dict={x: batch[0], y_: batch[1]})\n",
    "        if i % 200 is 0:\n",
    "            res = sess.run([accuracy],feed_dict={x: mnist.test.images, y_: mnist.test.labels})\n",
    "            acc2.append(res[0])\n",
    "            # print('batch:',i,'    accuracy:',res[0])\n",
    "    # 保存模型，注意该模型是不可用的。因为其计算图是训练的计算图。\n",
    "    # saver=tf.train.Saver()\n",
    "    # saved_model = saver.save(sess, './temp-bn-save')\n",
    "    # saver.save(sess, './bn_test/temp-bn-save')\n",
    "\n",
    "print(\"2 Final accuracy:\", acc2[-1])\n",
    "sess.close()\n",
    "\n",
    "tf.reset_default_graph()\n",
    "(x, y_), train_step, accuracy, _,= build_graph_3(is_training=True)\n",
    "acc3 = []\n",
    "with tf.Session() as sess:\n",
    "    sess.run(tf.global_variables_initializer())\n",
    "    for i in tqdm.tqdm(range(10000)):\n",
    "        batch = mnist.train.next_batch(60)\n",
    "        train_step.run(feed_dict={x: batch[0], y_: batch[1]})\n",
    "        if i % 200 is 0:\n",
    "            res = sess.run([accuracy],feed_dict={x: mnist.test.images, y_: mnist.test.labels})\n",
    "            acc3.append(res[0])\n",
    "            # print('batch:',i,'    accuracy:',res[0])\n",
    "    # 保存模型，注意该模型是不可用的。因为其计算图是训练的计算图。\n",
    "    # saver=tf.train.Saver()\n",
    "    # saved_model = saver.save(sess, './temp-bn-save')\n",
    "    # saver.save(sess, './bn_test/temp-bn-save')\n",
    "\n",
    "print(\"3 Final accuracy:\", acc3[-1])\n",
    "sess.close()"
   ]
  },
  {
   "cell_type": "markdown",
   "metadata": {},
   "source": [
    "绘制一个三层网络的训练曲线，\n",
    "结构分别是无BN、仅第一层加BN，仅前两层加BN、三层都加BN。\n",
    "验证结果：BN层越多，对covariate shift问题解决得越好，训练曲线也就越好。"
   ]
  },
  {
   "cell_type": "code",
   "execution_count": 87,
   "metadata": {
    "ExecuteTime": {
     "end_time": "2019-09-12T12:39:36.511809Z",
     "start_time": "2019-09-12T12:39:35.711809Z"
    }
   },
   "outputs": [
    {
     "data": {
      "image/png": "[encoded data removed]",
      "text/plain": [
       "<Figure size 432x288 with 1 Axes>"
      ]
     },
     "metadata": {
      "needs_background": "light"
     },
     "output_type": "display_data"
    }
   ],
   "source": [
    "fig, ax = plt.subplots()\n",
    "ax.plot(range(0,len(acc0)*50,50),acc0, label='0 BN')\n",
    "ax.plot(range(0,len(acc1)*50,50),acc1, label='1 BN')\n",
    "ax.plot(range(0,len(acc2)*50,50),acc2, label='2 BN')\n",
    "ax.plot(range(0,len(acc3)*50,50),acc3, label='3 BN')\n",
    "ax.set_xlabel('Training steps')\n",
    "ax.set_ylabel('Accuracy')\n",
    "# ax.set_ylim([0.8,1])\n",
    "# ax.set_ylim([0.87,0.97])\n",
    "ax.set_ylim([0.96,0.975])\n",
    "ax.set_title('Batch Normalization Accuracy')\n",
    "ax.legend(loc=4)\n",
    "plt.show()"
   ]
  },
  {
   "cell_type": "code",
   "execution_count": null,
   "metadata": {
    "ExecuteTime": {
     "end_time": "2019-09-12T08:15:31.589209Z",
     "start_time": "2019-09-12T08:09:05.704Z"
    }
   },
   "outputs": [],
   "source": [
    "sess.close()\n",
    "tf.reset_default_graph()\n",
    "# (x, y_), _, accuracy, y, saver = build_graph(is_training=False)\n",
    "(x, y_), _, accuracy, y = build_graph(is_training=False)\n",
    "\n",
    "predictions = []\n",
    "correct = 0\n",
    "with tf.Session() as sess:\n",
    "    sess.run(tf.global_variables_initializer())\n",
    "    \n",
    "    # 读取训练时模型，将学到的权重参数、估计的总体均值、方差，通过restore，载入到运行的计算图中。\n",
    "    saver=tf.train.Saver()\n",
    "    saver.restore(sess, './bn_test/temp-bn-save')\n",
    "    saver.save(sess, './bn_release/temp-bn-save')\n",
    "    \n",
    "    for i in range(100):\n",
    "        pred, corr = sess.run([tf.arg_max(y,1), accuracy],\n",
    "                             feed_dict={x: [mnist.test.images[i]], y_: [mnist.test.labels[i]]})\n",
    "        correct += corr\n",
    "        predictions.append(pred[0])\n",
    "print(\"PREDICTIONS:\", predictions)\n",
    "print(\"ACCURACY:\", correct/100)\n"
   ]
  },
  {
   "cell_type": "code",
   "execution_count": null,
   "metadata": {
    "ExecuteTime": {
     "end_time": "2019-09-12T08:15:31.591209Z",
     "start_time": "2019-09-12T08:09:05.716Z"
    }
   },
   "outputs": [],
   "source": [
    "sess.close()\n",
    "tf.reset_default_graph()\n",
    "# (x, y_), _, accuracy, y, saver = build_graph(is_training=False)\n",
    "# (x, y_), _, accuracy, y = build_graph(is_training=False)\n",
    "graph = tf.get_default_graph()\n",
    "predictions = []\n",
    "correct = 0\n",
    "with tf.Session() as sess:\n",
    "    sess.run(tf.global_variables_initializer())\n",
    "    \n",
    "    saver = tf.train.import_meta_graph('./bn_release/temp-bn-save.meta')\n",
    "    saver.restore(sess,'./bn_release/temp-bn-save')\n",
    "    all_tensor = tf.get_default_graph().as_graph_def().node\n",
    "    print(all_tensor)\n",
    "    \n",
    "    #将要学习的新数据\n",
    "    x = graph.get_tensor_by_name(\"x:0\")\n",
    "    y_ = graph.get_tensor_by_name(\"y_:0\")\n",
    "    accuracy = graph.get_tensor_by_name(\"accuracy:0\")\n",
    "    print(sess.run(accuracy,feed_dict={x: [mnist.test.images], y_: [mnist.test.labels]}))"
   ]
  },
  {
   "cell_type": "code",
   "execution_count": null,
   "metadata": {
    "ExecuteTime": {
     "end_time": "2019-09-12T08:15:31.592209Z",
     "start_time": "2019-09-12T08:09:05.725Z"
    }
   },
   "outputs": [],
   "source": [
    "print(mnist.test.images.shape)\n",
    "print(mnist.test.labels)"
   ]
  },
  {
   "cell_type": "code",
   "execution_count": null,
   "metadata": {},
   "outputs": [],
   "source": []
  },
  {
   "cell_type": "code",
   "execution_count": null,
   "metadata": {},
   "outputs": [],
   "source": []
  },
  {
   "cell_type": "code",
   "execution_count": null,
   "metadata": {},
   "outputs": [],
   "source": []
  }
 ],
 "metadata": {
  "kernelspec": {
   "display_name": "Python 3",
   "language": "python",
   "name": "python3"
  },
  "language_info": {
   "codemirror_mode": {
    "name": "ipython",
    "version": 3
   },
   "file_extension": ".py",
   "mimetype": "text/x-python",
   "name": "python",
   "nbconvert_exporter": "python",
   "pygments_lexer": "ipython3",
   "version": "3.6.8"
  },
  "toc": {
   "base_numbering": 1,
   "nav_menu": {},
   "number_sections": true,
   "sideBar": true,
   "skip_h1_title": false,
   "title_cell": "Table of Contents",
   "title_sidebar": "Contents",
   "toc_cell": false,
   "toc_position": {},
   "toc_section_display": true,
   "toc_window_display": false
  }
 },
 "nbformat": 4,
 "nbformat_minor": 2
}
